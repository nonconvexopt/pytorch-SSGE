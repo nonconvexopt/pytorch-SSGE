{
 "cells": [
  {
   "cell_type": "code",
   "execution_count": 1,
   "id": "841317e1-f4b4-435d-b104-0eb6ae2cc5ce",
   "metadata": {},
   "outputs": [],
   "source": [
    "import sys\n",
    "import tqdm\n",
    "import math\n",
    "\n",
    "import torch\n",
    "import torch.nn as nn\n",
    "import torch.nn.functional as F\n",
    "import gpytorch\n",
    "import matplotlib.pyplot as plt\n",
    "\n",
    "from torch_ssge import SSGE"
   ]
  },
  {
   "cell_type": "code",
   "execution_count": 2,
   "id": "ccc05a25-44ca-42d0-b095-d6ce3a6a891a",
   "metadata": {},
   "outputs": [],
   "source": [
    "dist = torch.distributions.multivariate_normal.MultivariateNormal(\n",
    "    torch.zeros(10),\n",
    "    torch.eye(10),\n",
    ")"
   ]
  },
  {
   "cell_type": "code",
   "execution_count": 3,
   "id": "8d504a19-7ab3-40ba-9b67-b3909d21be37",
   "metadata": {},
   "outputs": [],
   "source": [
    "kernel = gpytorch.kernels.ScaleKernel(\n",
    "    gpytorch.kernels.MaternKernel(\n",
    "        ard_num_dims = 10\n",
    "    )\n",
    ")"
   ]
  },
  {
   "cell_type": "code",
   "execution_count": 4,
   "id": "9e33c4d1-27da-4f7f-b95a-e8dc596ed675",
   "metadata": {},
   "outputs": [],
   "source": [
    "estimator = SSGE(\n",
    "    gpytorch.kernels.ScaleKernel(\n",
    "        gpytorch.kernels.MaternKernel(\n",
    "            ard_num_dims = 10\n",
    "        )\n",
    "    )\n",
    ")"
   ]
  },
  {
   "cell_type": "code",
   "execution_count": 5,
   "id": "046d1700-b220-4657-9c18-ed8e5e4f9d5e",
   "metadata": {},
   "outputs": [],
   "source": [
    "sample = dist.sample([100])\n",
    "sample.requires_grad_(True)\n",
    "estimator.fit(sample)"
   ]
  },
  {
   "cell_type": "code",
   "execution_count": 7,
   "id": "fe43df49-b4c7-460d-a7ae-4b18600c9a45",
   "metadata": {},
   "outputs": [
    {
     "data": {
      "text/plain": [
       "torch.Size([100, 10])"
      ]
     },
     "execution_count": 7,
     "metadata": {},
     "output_type": "execute_result"
    }
   ],
   "source": [
    "test_sample = dist.sample([100])\n",
    "test_sample.requires_grad_(True)\n",
    "estimator(test_sample).shape"
   ]
  },
  {
   "cell_type": "code",
   "execution_count": 4,
   "id": "53b4b4b5-b6bf-4696-89cb-62e4d23c9ceb",
   "metadata": {},
   "outputs": [
    {
     "data": {
      "image/png": "[encoded data removed]",
      "text/plain": [
       "<Figure size 576x396 with 1 Axes>"
      ]
     },
     "metadata": {},
     "output_type": "display_data"
    }
   ],
   "source": [
    "def test_gaussian():\n",
    "    plt.style.use('seaborn')\n",
    "\n",
    "    dist = torch.distributions.normal.Normal(\n",
    "        torch.tensor(0.0), torch.tensor(1.0)\n",
    "    )\n",
    "\n",
    "    kernel = gpytorch.kernels.RBFKernel()\n",
    "\n",
    "    # estimator = SSGE(gpytorch.kernels.ScaleKernel(gpytorch.kernels.RBFKernel()))\n",
    "    estimator = SSGE(\n",
    "        gpytorch.kernels.ScaleKernel(gpytorch.kernels.RBFKernel()), \n",
    "        noise=1e-4\n",
    "    )\n",
    "\n",
    "    sample = dist.sample((1000, 1))\n",
    "    logp = dist.log_prob(sample)\n",
    "    sample.requires_grad_(True)\n",
    "    estimator.fit(sample)\n",
    "\n",
    "    # test_points = dist.sample((25, 1))\n",
    "    test_points = torch.linspace(-2, +2, 250)\n",
    "    test_points.requires_grad_(True)\n",
    "    grad_the = -test_points\n",
    "    grad_est = estimator(test_points)\n",
    "\n",
    "    # Plot results\n",
    "    fig, ax = plt.subplots(1, 1)\n",
    "    ax.scatter(sample.detach().numpy(), logp.detach().numpy(),\n",
    "               marker='o', s=2.0, label='Sample points')\n",
    "    ax.plot(test_points.detach().numpy(), grad_the.detach().numpy(),\n",
    "            c='red', lw=1, label=r\"$\\nabla_x\")\n",
    "    ax.plot(test_points.detach().numpy(), grad_est.detach().numpy(),\n",
    "            c='blue', lw=1,  label=r\"$\\hat{\\nabla_x}\")\n",
    "    #plt.savefig(\"out/test_gaussian.png\")\n",
    "\n",
    "test_gaussian()"
   ]
  },
  {
   "cell_type": "code",
   "execution_count": 8,
   "id": "f1d2bfa3-d3f0-4d76-bfd5-8c916ead3f6d",
   "metadata": {},
   "outputs": [
    {
     "ename": "RuntimeError",
     "evalue": "element 0 of tensors does not require grad and does not have a grad_fn",
     "output_type": "error",
     "traceback": [
      "\u001b[0;31m---------------------------------------------------------------------------\u001b[0m",
      "\u001b[0;31mRuntimeError\u001b[0m                              Traceback (most recent call last)",
      "\u001b[0;32m~/.tmp/ipykernel_43612/1891310592.py\u001b[0m in \u001b[0;36m<module>\u001b[0;34m\u001b[0m\n\u001b[1;32m     43\u001b[0m     \u001b[0;31m#plt.savefig(\"out/test_gaussian.png\")\u001b[0m\u001b[0;34m\u001b[0m\u001b[0;34m\u001b[0m\u001b[0m\n\u001b[1;32m     44\u001b[0m \u001b[0;34m\u001b[0m\u001b[0m\n\u001b[0;32m---> 45\u001b[0;31m \u001b[0mtest_gaussian\u001b[0m\u001b[0;34m(\u001b[0m\u001b[0;34m)\u001b[0m\u001b[0;34m\u001b[0m\u001b[0;34m\u001b[0m\u001b[0m\n\u001b[0m",
      "\u001b[0;32m~/.tmp/ipykernel_43612/1891310592.py\u001b[0m in \u001b[0;36mtest_gaussian\u001b[0;34m()\u001b[0m\n\u001b[1;32m     24\u001b[0m         \u001b[0mestimator\u001b[0m\u001b[0;34m.\u001b[0m\u001b[0mfit\u001b[0m\u001b[0;34m(\u001b[0m\u001b[0msample\u001b[0m\u001b[0;34m)\u001b[0m\u001b[0;34m\u001b[0m\u001b[0;34m\u001b[0m\u001b[0m\n\u001b[1;32m     25\u001b[0m         \u001b[0mdist\u001b[0m\u001b[0;34m.\u001b[0m\u001b[0mlog_prob\u001b[0m\u001b[0;34m(\u001b[0m\u001b[0msample\u001b[0m\u001b[0;34m)\u001b[0m\u001b[0;34m.\u001b[0m\u001b[0msum\u001b[0m\u001b[0;34m(\u001b[0m\u001b[0;34m)\u001b[0m\u001b[0;34m.\u001b[0m\u001b[0mbackward\u001b[0m\u001b[0;34m(\u001b[0m\u001b[0mretain_graph\u001b[0m\u001b[0;34m=\u001b[0m\u001b[0;32mTrue\u001b[0m\u001b[0;34m)\u001b[0m\u001b[0;34m\u001b[0m\u001b[0;34m\u001b[0m\u001b[0m\n\u001b[0;32m---> 26\u001b[0;31m         \u001b[0;34m(\u001b[0m\u001b[0mestimator\u001b[0m\u001b[0;34m(\u001b[0m\u001b[0msample\u001b[0m\u001b[0;34m)\u001b[0m \u001b[0;34m-\u001b[0m \u001b[0msample\u001b[0m\u001b[0;34m.\u001b[0m\u001b[0mgrad\u001b[0m\u001b[0;34m)\u001b[0m\u001b[0;34m.\u001b[0m\u001b[0mpow\u001b[0m\u001b[0;34m(\u001b[0m\u001b[0;36m2\u001b[0m\u001b[0;34m)\u001b[0m\u001b[0;34m.\u001b[0m\u001b[0msum\u001b[0m\u001b[0;34m(\u001b[0m\u001b[0;34m)\u001b[0m\u001b[0;34m.\u001b[0m\u001b[0mbackward\u001b[0m\u001b[0;34m(\u001b[0m\u001b[0;34m)\u001b[0m\u001b[0;34m\u001b[0m\u001b[0;34m\u001b[0m\u001b[0m\n\u001b[0m\u001b[1;32m     27\u001b[0m         \u001b[0moptimizer\u001b[0m\u001b[0;34m.\u001b[0m\u001b[0mstep\u001b[0m\u001b[0;34m(\u001b[0m\u001b[0;34m)\u001b[0m\u001b[0;34m\u001b[0m\u001b[0;34m\u001b[0m\u001b[0m\n\u001b[1;32m     28\u001b[0m \u001b[0;34m\u001b[0m\u001b[0m\n",
      "\u001b[0;32m~/miniconda3/envs/jupyter_public/lib/python3.9/site-packages/torch/_tensor.py\u001b[0m in \u001b[0;36mbackward\u001b[0;34m(self, gradient, retain_graph, create_graph, inputs)\u001b[0m\n\u001b[1;32m    305\u001b[0m                 \u001b[0mcreate_graph\u001b[0m\u001b[0;34m=\u001b[0m\u001b[0mcreate_graph\u001b[0m\u001b[0;34m,\u001b[0m\u001b[0;34m\u001b[0m\u001b[0;34m\u001b[0m\u001b[0m\n\u001b[1;32m    306\u001b[0m                 inputs=inputs)\n\u001b[0;32m--> 307\u001b[0;31m         \u001b[0mtorch\u001b[0m\u001b[0;34m.\u001b[0m\u001b[0mautograd\u001b[0m\u001b[0;34m.\u001b[0m\u001b[0mbackward\u001b[0m\u001b[0;34m(\u001b[0m\u001b[0mself\u001b[0m\u001b[0;34m,\u001b[0m \u001b[0mgradient\u001b[0m\u001b[0;34m,\u001b[0m \u001b[0mretain_graph\u001b[0m\u001b[0;34m,\u001b[0m \u001b[0mcreate_graph\u001b[0m\u001b[0;34m,\u001b[0m \u001b[0minputs\u001b[0m\u001b[0;34m=\u001b[0m\u001b[0minputs\u001b[0m\u001b[0;34m)\u001b[0m\u001b[0;34m\u001b[0m\u001b[0;34m\u001b[0m\u001b[0m\n\u001b[0m\u001b[1;32m    308\u001b[0m \u001b[0;34m\u001b[0m\u001b[0m\n\u001b[1;32m    309\u001b[0m     \u001b[0;32mdef\u001b[0m \u001b[0mregister_hook\u001b[0m\u001b[0;34m(\u001b[0m\u001b[0mself\u001b[0m\u001b[0;34m,\u001b[0m \u001b[0mhook\u001b[0m\u001b[0;34m)\u001b[0m\u001b[0;34m:\u001b[0m\u001b[0;34m\u001b[0m\u001b[0;34m\u001b[0m\u001b[0m\n",
      "\u001b[0;32m~/miniconda3/envs/jupyter_public/lib/python3.9/site-packages/torch/autograd/__init__.py\u001b[0m in \u001b[0;36mbackward\u001b[0;34m(tensors, grad_tensors, retain_graph, create_graph, grad_variables, inputs)\u001b[0m\n\u001b[1;32m    152\u001b[0m         \u001b[0mretain_graph\u001b[0m \u001b[0;34m=\u001b[0m \u001b[0mcreate_graph\u001b[0m\u001b[0;34m\u001b[0m\u001b[0;34m\u001b[0m\u001b[0m\n\u001b[1;32m    153\u001b[0m \u001b[0;34m\u001b[0m\u001b[0m\n\u001b[0;32m--> 154\u001b[0;31m     Variable._execution_engine.run_backward(\n\u001b[0m\u001b[1;32m    155\u001b[0m         \u001b[0mtensors\u001b[0m\u001b[0;34m,\u001b[0m \u001b[0mgrad_tensors_\u001b[0m\u001b[0;34m,\u001b[0m \u001b[0mretain_graph\u001b[0m\u001b[0;34m,\u001b[0m \u001b[0mcreate_graph\u001b[0m\u001b[0;34m,\u001b[0m \u001b[0minputs\u001b[0m\u001b[0;34m,\u001b[0m\u001b[0;34m\u001b[0m\u001b[0;34m\u001b[0m\u001b[0m\n\u001b[1;32m    156\u001b[0m         allow_unreachable=True, accumulate_grad=True)  # allow_unreachable flag\n",
      "\u001b[0;31mRuntimeError\u001b[0m: element 0 of tensors does not require grad and does not have a grad_fn"
     ]
    }
   ],
   "source": [
    "def test_gaussian():\n",
    "    plt.style.use('seaborn')\n",
    "\n",
    "    dist = torch.distributions.normal.Normal(\n",
    "        torch.tensor(0.0), torch.tensor(1.0)\n",
    "    )\n",
    "\n",
    "    kernel = gpytorch.kernels.RBFKernel()\n",
    "\n",
    "    # estimator = SSGE(gpytorch.kernels.ScaleKernel(gpytorch.kernels.RBFKernel()))\n",
    "    estimator = SSGE(\n",
    "        gpytorch.kernels.ScaleKernel(gpytorch.kernels.RBFKernel()), \n",
    "        noise=1e-4\n",
    "    )\n",
    "\n",
    "    sample = dist.sample((1000, 1))\n",
    "    logp = dist.log_prob(sample)\n",
    "    sample.requires_grad_(True)\n",
    "    \n",
    "    optimizer = torch.optim.Adam(kernel.parameters(), lr = 3e-4)\n",
    "    num_epoch = 100\n",
    "    for epoch in range(num_epoch):\n",
    "        optimizer.zero_grad()\n",
    "        estimator.fit(sample)\n",
    "        dist.log_prob(sample).sum().backward(retain_graph=True)\n",
    "        (estimator(sample) - sample.grad).pow(2).sum().backward()\n",
    "        optimizer.step()\n",
    "\n",
    "    # test_points = dist.sample((25, 1))\n",
    "    test_points = torch.linspace(-2, +2, 250)\n",
    "    test_points.requires_grad_(True)\n",
    "    grad_the = -test_points\n",
    "    grad_est = estimator(test_points)\n",
    "\n",
    "    # Plot results\n",
    "    fig, ax = plt.subplots(1, 1)\n",
    "    ax.scatter(sample.detach().numpy(), logp.detach().numpy(),\n",
    "               marker='o', s=2.0, label='Sample points')\n",
    "    ax.plot(test_points.detach().numpy(), grad_the.detach().numpy(),\n",
    "            c='red', lw=1, label=r\"$\\nabla_x\")\n",
    "    ax.plot(test_points.detach().numpy(), grad_est.detach().numpy(),\n",
    "            c='blue', lw=1,  label=r\"$\\hat{\\nabla_x}\")\n",
    "    #plt.savefig(\"out/test_gaussian.png\")\n",
    "\n",
    "test_gaussian()"
   ]
  },
  {
   "cell_type": "code",
   "execution_count": null,
   "id": "ce695d78-265e-4c9e-9ad8-74dda15f9ee4",
   "metadata": {},
   "outputs": [],
   "source": []
  }
 ],
 "metadata": {
  "kernelspec": {
   "display_name": "Python 3 (ipykernel)",
   "language": "python",
   "name": "python3"
  },
  "language_info": {
   "codemirror_mode": {
    "name": "ipython",
    "version": 3
   },
   "file_extension": ".py",
   "mimetype": "text/x-python",
   "name": "python",
   "nbconvert_exporter": "python",
   "pygments_lexer": "ipython3",
   "version": "3.9.7"
  },
  "widgets": {
   "application/vnd.jupyter.widget-state+json": {
    "state": {},
    "version_major": 2,
    "version_minor": 0
   }
  }
 },
 "nbformat": 4,
 "nbformat_minor": 5
}
